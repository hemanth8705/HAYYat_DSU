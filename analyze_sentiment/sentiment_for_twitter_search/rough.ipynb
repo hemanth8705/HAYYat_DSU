{
 "cells": [
  {
   "cell_type": "code",
   "execution_count": 57,
   "metadata": {},
   "outputs": [],
   "source": [
    "import os\n",
    "import pandas as pd\n",
    "import json\n",
    "\n",
    "# Build the full path\n",
    "file_path =  r'../../scraped_data/tweets_on_search.json'\n",
    "try:\n",
    "    data = pd.read_json(file_path)\n",
    "except FileNotFoundError:\n",
    "    print(\"File not found. Please check the path.\")\n"
   ]
  },
  {
   "cell_type": "code",
   "execution_count": 58,
   "metadata": {},
   "outputs": [],
   "source": [
    "from textblob import TextBlob"
   ]
  },
  {
   "cell_type": "code",
   "execution_count": 59,
   "metadata": {},
   "outputs": [],
   "source": [
    "# Function to determine sentiment\n",
    "def get_sentiment(tweet):\n",
    "    blob = TextBlob(tweet)\n",
    "    print(blob.sentiment.polarity)\n",
    "    positive_sentiment = max(blob.sentiment.polarity, 0)\n",
    "    positive_sentiment = round(positive_sentiment, 2)\n",
    "    negative_sentiment = min(blob.sentiment.polarity, 0)\n",
    "    negative_sentiment = round(negative_sentiment, 2)\n",
    "    if positive_sentiment != 0:\n",
    "        return \"Positive\",positive_sentiment\n",
    "    if negative_sentiment != 0:\n",
    "        return \"Negative\",negative_sentiment\n",
    "    return \"neutral\" , round(blob.sentiment.polarity, 2)\n",
    "\n"
   ]
  },
  {
   "cell_type": "code",
   "execution_count": 64,
   "metadata": {},
   "outputs": [
    {
     "name": "stdout",
     "output_type": "stream",
     "text": [
      "<class 'pandas.core.frame.DataFrame'>\n",
      "RangeIndex: 4 entries, 0 to 3\n",
      "Data columns (total 3 columns):\n",
      " #   Column    Non-Null Count  Dtype \n",
      "---  ------    --------------  ----- \n",
      " 0   username  4 non-null      object\n",
      " 1   tweet     4 non-null      object\n",
      " 2   url       4 non-null      object\n",
      "dtypes: object(3)\n",
      "memory usage: 224.0+ bytes\n"
     ]
    }
   ],
   "source": [
    "data.info()"
   ]
  },
  {
   "cell_type": "code",
   "execution_count": 65,
   "metadata": {},
   "outputs": [
    {
     "data": {
      "text/html": [
       "<div>\n",
       "<style scoped>\n",
       "    .dataframe tbody tr th:only-of-type {\n",
       "        vertical-align: middle;\n",
       "    }\n",
       "\n",
       "    .dataframe tbody tr th {\n",
       "        vertical-align: top;\n",
       "    }\n",
       "\n",
       "    .dataframe thead th {\n",
       "        text-align: right;\n",
       "    }\n",
       "</style>\n",
       "<table border=\"1\" class=\"dataframe\">\n",
       "  <thead>\n",
       "    <tr style=\"text-align: right;\">\n",
       "      <th></th>\n",
       "      <th>username</th>\n",
       "      <th>tweet</th>\n",
       "      <th>url</th>\n",
       "    </tr>\n",
       "  </thead>\n",
       "  <tbody>\n",
       "    <tr>\n",
       "      <th>0</th>\n",
       "      <td>PURPLE TICK</td>\n",
       "      <td>Absolutely loving the new coffee shop in town!...</td>\n",
       "      <td>https://x.com/FOODIE713160191/status/183767600...</td>\n",
       "    </tr>\n",
       "    <tr>\n",
       "      <th>1</th>\n",
       "      <td>Venkatesh</td>\n",
       "      <td>I'm really disappointed with the service at th...</td>\n",
       "      <td>https://x.com/iam_venky4/status/18383138708441...</td>\n",
       "    </tr>\n",
       "    <tr>\n",
       "      <th>2</th>\n",
       "      <td>PURPLE TICK</td>\n",
       "      <td>Absolutely loving the new coffee shop in town!...</td>\n",
       "      <td>https://x.com/FOODIE713160191/status/183767600...</td>\n",
       "    </tr>\n",
       "    <tr>\n",
       "      <th>3</th>\n",
       "      <td>Venkatesh</td>\n",
       "      <td>I'm really disappointed with the service at th...</td>\n",
       "      <td>https://x.com/iam_venky4/status/18383138708441...</td>\n",
       "    </tr>\n",
       "  </tbody>\n",
       "</table>\n",
       "</div>"
      ],
      "text/plain": [
       "      username                                              tweet  \\\n",
       "0  PURPLE TICK  Absolutely loving the new coffee shop in town!...   \n",
       "1    Venkatesh  I'm really disappointed with the service at th...   \n",
       "2  PURPLE TICK  Absolutely loving the new coffee shop in town!...   \n",
       "3    Venkatesh  I'm really disappointed with the service at th...   \n",
       "\n",
       "                                                 url  \n",
       "0  https://x.com/FOODIE713160191/status/183767600...  \n",
       "1  https://x.com/iam_venky4/status/18383138708441...  \n",
       "2  https://x.com/FOODIE713160191/status/183767600...  \n",
       "3  https://x.com/iam_venky4/status/18383138708441...  "
      ]
     },
     "execution_count": 65,
     "metadata": {},
     "output_type": "execute_result"
    }
   ],
   "source": [
    "data.head()"
   ]
  },
  {
   "cell_type": "code",
   "execution_count": 66,
   "metadata": {},
   "outputs": [],
   "source": [
    "def analyze_sentiment(text):\n",
    "    blob = TextBlob(text)\n",
    "    print(blob.sentiment.polarity)\n",
    "    positive_sentiment = max(blob.sentiment.polarity, 0)\n",
    "    positive_sentiment = round(positive_sentiment, 2)\n",
    "    negative_sentiment = min(blob.sentiment.polarity, 0)\n",
    "    negative_sentiment = round(negative_sentiment, 2)\n",
    "    if positive_sentiment != 0:\n",
    "        return \"Positive\",positive_sentiment\n",
    "    return \"Negative\",negative_sentiment\n"
   ]
  },
  {
   "cell_type": "code",
   "execution_count": 62,
   "metadata": {},
   "outputs": [
    {
     "name": "stdout",
     "output_type": "stream",
     "text": [
      "0.14989429175475688\n"
     ]
    },
    {
     "data": {
      "text/plain": [
       "('Positive', 0.15)"
      ]
     },
     "execution_count": 62,
     "metadata": {},
     "output_type": "execute_result"
    }
   ],
   "source": [
    "text = '''\n",
    "See the top losers, invest and get updated what's happening in the crypto market India's Largest Regional Retail Option Traders Summit. (BOTS) is a prestigious options trading event organized by Traders Gurukul. Held on the 2nd OR 3rd Sunday of every month, across top cities in India This functionality will provide users with ease of access navigation and enable create a new revenue line by generating leads of potential customers for brokers in a more integrated manner. Starlink satellites, launched by Elon MuskÃ¢â‚¬â„¢s SpaceX, are causing issues for astronomers. A new study, published Wednesday in Astronomy & Astrophysics, highlights the growing problem. The network, comprising over 6,300 satellites, delivers high-speed internet to remote locations. However, it also generates unintended electromagnetic radiation (UEMR), disrupting radio astronomy.Why Radio Astronomy MattersRadio astronomy focuses on studying space at radio frequencies. Unlike optical telescopes, which detect visible light, radio telescopes capture radio waves from space. Just like bright lights can overwhelm human eyes, UEMR from satellites can blind radio telescopes. Cees Bassa, from the Netherlands Institute for Radio Astronomy, explains the impact. Observing near a satellite is like spotting a faint star next to a full moon. Read Also:Ã‚Â Earth set to welcome a new mini-moon on September 29; key details revealed Benjamin Winkel, from the Max Planck Institute, elaborates further. Ã¢â‚¬Å›ItÃ¢â‚¬â„¢s blinding,Ã¢â‚¬Å¥ Winkel states. Radio telescopes become saturated with UEMR, much like eyes overloaded with light.Second-Generation Satellites Worsen the SituationThe study reveals that Starlink's newer satellites, less than a third of the fleet, emit 32 times more UEMR than the older ones. This problem exists despite SpaceX trying to reduce UEMR in its first-generation satellites. Winkel notes that while some improvements were made to earlier models, the new ones are significantly brighter. With satellite launches becoming more affordable, the issue could worsen. Estimates suggest up to 100,000 satellites may orbit Earth by 2030. In June 2023, UNOOSA estimated there were 11,330 satellites in orbit. Read Also:Ã‚Â Sunita Williams, stuck in space for months, takes command of the ISS once again as NASA prepares a rescue missionThe Need for RegulationExperts believe regulations for satellite emissions are essential. Current ground-based electronics, like cellphone towers, have limits on radio pollution. The same should apply to satellites. Winkel explains that while leaks are inevitable, the amount needs strict control. Currently, astronomers rely on goodwill agreements with companies like Starlink to manage satellite interference. Regulations, however, could provide more consistent protection. This rising interference signals the need for tighter control as the satellite population grows.\n",
    "                               Discover the latest business news, Sensex, and Nifty updates. Obtain Personal Finance insights, tax queries, and expert opinions on Moneycontrol or download the Moneycontrol App to stay updated!\n",
    "              Copyright Ã‚Â© e-Eighteen.com Ltd. All rights reserved. Reproduction of news articles, photos, videos or any other content in whole or in part in any form \n",
    "        or medium without express writtern permission of moneycontrol.com is prohibited. You are already a Moneycontrol Pro user.\n",
    "\n",
    "'''\n",
    "analyze_sentiment(text)"
   ]
  },
  {
   "cell_type": "code",
   "execution_count": 63,
   "metadata": {},
   "outputs": [
    {
     "name": "stdout",
     "output_type": "stream",
     "text": [
      "0.0\n"
     ]
    },
    {
     "data": {
      "text/plain": [
       "('Negative', 0.0)"
      ]
     },
     "execution_count": 63,
     "metadata": {},
     "output_type": "execute_result"
    }
   ],
   "source": [
    "text = '''\n",
    "get out\n",
    "'''\n",
    "analyze_sentiment(text)"
   ]
  },
  {
   "cell_type": "code",
   "execution_count": 68,
   "metadata": {},
   "outputs": [
    {
     "name": "stdout",
     "output_type": "stream",
     "text": [
      "0.5676136363636364\n",
      "-0.9375\n",
      "0.5676136363636364\n",
      "-0.9375\n"
     ]
    }
   ],
   "source": [
    "# Create new columns for sentiment analysis of the combined text\n",
    "data[['sentiment', 'intensity']] = data['tweet'].apply(lambda x: pd.Series(analyze_sentiment(x)))"
   ]
  },
  {
   "cell_type": "code",
   "execution_count": 69,
   "metadata": {},
   "outputs": [
    {
     "data": {
      "text/html": [
       "<div>\n",
       "<style scoped>\n",
       "    .dataframe tbody tr th:only-of-type {\n",
       "        vertical-align: middle;\n",
       "    }\n",
       "\n",
       "    .dataframe tbody tr th {\n",
       "        vertical-align: top;\n",
       "    }\n",
       "\n",
       "    .dataframe thead th {\n",
       "        text-align: right;\n",
       "    }\n",
       "</style>\n",
       "<table border=\"1\" class=\"dataframe\">\n",
       "  <thead>\n",
       "    <tr style=\"text-align: right;\">\n",
       "      <th></th>\n",
       "      <th>username</th>\n",
       "      <th>tweet</th>\n",
       "      <th>url</th>\n",
       "      <th>sentiment</th>\n",
       "      <th>intensity</th>\n",
       "    </tr>\n",
       "  </thead>\n",
       "  <tbody>\n",
       "    <tr>\n",
       "      <th>0</th>\n",
       "      <td>PURPLE TICK</td>\n",
       "      <td>Absolutely loving the new coffee shop in town!...</td>\n",
       "      <td>https://x.com/FOODIE713160191/status/183767600...</td>\n",
       "      <td>Positive</td>\n",
       "      <td>0.57</td>\n",
       "    </tr>\n",
       "    <tr>\n",
       "      <th>1</th>\n",
       "      <td>Venkatesh</td>\n",
       "      <td>I'm really disappointed with the service at th...</td>\n",
       "      <td>https://x.com/iam_venky4/status/18383138708441...</td>\n",
       "      <td>Negative</td>\n",
       "      <td>-0.94</td>\n",
       "    </tr>\n",
       "    <tr>\n",
       "      <th>2</th>\n",
       "      <td>PURPLE TICK</td>\n",
       "      <td>Absolutely loving the new coffee shop in town!...</td>\n",
       "      <td>https://x.com/FOODIE713160191/status/183767600...</td>\n",
       "      <td>Positive</td>\n",
       "      <td>0.57</td>\n",
       "    </tr>\n",
       "    <tr>\n",
       "      <th>3</th>\n",
       "      <td>Venkatesh</td>\n",
       "      <td>I'm really disappointed with the service at th...</td>\n",
       "      <td>https://x.com/iam_venky4/status/18383138708441...</td>\n",
       "      <td>Negative</td>\n",
       "      <td>-0.94</td>\n",
       "    </tr>\n",
       "  </tbody>\n",
       "</table>\n",
       "</div>"
      ],
      "text/plain": [
       "      username                                              tweet  \\\n",
       "0  PURPLE TICK  Absolutely loving the new coffee shop in town!...   \n",
       "1    Venkatesh  I'm really disappointed with the service at th...   \n",
       "2  PURPLE TICK  Absolutely loving the new coffee shop in town!...   \n",
       "3    Venkatesh  I'm really disappointed with the service at th...   \n",
       "\n",
       "                                                 url sentiment  intensity  \n",
       "0  https://x.com/FOODIE713160191/status/183767600...  Positive       0.57  \n",
       "1  https://x.com/iam_venky4/status/18383138708441...  Negative      -0.94  \n",
       "2  https://x.com/FOODIE713160191/status/183767600...  Positive       0.57  \n",
       "3  https://x.com/iam_venky4/status/18383138708441...  Negative      -0.94  "
      ]
     },
     "execution_count": 69,
     "metadata": {},
     "output_type": "execute_result"
    }
   ],
   "source": [
    "data.head()"
   ]
  },
  {
   "cell_type": "code",
   "execution_count": 70,
   "metadata": {},
   "outputs": [
    {
     "name": "stdout",
     "output_type": "stream",
     "text": [
      "<class 'pandas.core.frame.DataFrame'>\n",
      "RangeIndex: 4 entries, 0 to 3\n",
      "Data columns (total 5 columns):\n",
      " #   Column     Non-Null Count  Dtype  \n",
      "---  ------     --------------  -----  \n",
      " 0   username   4 non-null      object \n",
      " 1   tweet      4 non-null      object \n",
      " 2   url        4 non-null      object \n",
      " 3   sentiment  4 non-null      object \n",
      " 4   intensity  4 non-null      float64\n",
      "dtypes: float64(1), object(4)\n",
      "memory usage: 288.0+ bytes\n"
     ]
    }
   ],
   "source": [
    "data.info()"
   ]
  },
  {
   "cell_type": "code",
   "execution_count": 81,
   "metadata": {},
   "outputs": [
    {
     "data": {
      "text/plain": [
       "(np.float64(50.0), np.float64(50.0))"
      ]
     },
     "execution_count": 81,
     "metadata": {},
     "output_type": "execute_result"
    }
   ],
   "source": [
    "sentiment_counts = data['sentiment'].value_counts()\n",
    "\n",
    "# Calculate percentages\n",
    "total_count = len(data)\n",
    "positive_percentage = (sentiment_counts.get('Positive', 0) / total_count) * 100\n",
    "negative_percentage = (sentiment_counts.get('Negative', 0) / total_count) * 100\n",
    "positive_percentage = round(positive_percentage ,2)\n",
    "negative_percentage = round(negative_percentage , 2)\n",
    "\n",
    "\n",
    "negative_percentage , positive_percentage"
   ]
  },
  {
   "cell_type": "code",
   "execution_count": 76,
   "metadata": {},
   "outputs": [],
   "source": [
    "# Create a list of dictionaries in the desired format\n",
    "json_list = []\n",
    "for _, row in data.iterrows():\n",
    "    json_list.append({\n",
    "        \"user_id\" : row['username'],\n",
    "        'url': row['url'],\n",
    "        'tweet': row['tweet'],\n",
    "        'sentiment': row['sentiment'],\n",
    "        'intensity': row['intensity']\n",
    "    })"
   ]
  },
  {
   "cell_type": "code",
   "execution_count": 82,
   "metadata": {},
   "outputs": [],
   "source": [
    "json_list.append({\n",
    "    \"positive_percentage\" : positive_percentage,\n",
    "    \"negative_percentage\" : negative_percentage\n",
    "})"
   ]
  },
  {
   "cell_type": "code",
   "execution_count": 83,
   "metadata": {},
   "outputs": [],
   "source": [
    "# Convert to JSON string\n",
    "json_output = json.dumps(json_list, indent=4)\n",
    "\n",
    "# Save to a JSON file\n",
    "file_path = r\"..\\..\\final_data\\tweets_on_posts.json\"\n",
    "with open(file_path, 'w') as json_file:\n",
    "    json_file.write(json_output)"
   ]
  },
  {
   "cell_type": "code",
   "execution_count": null,
   "metadata": {},
   "outputs": [],
   "source": []
  }
 ],
 "metadata": {
  "kernelspec": {
   "display_name": "Python 3",
   "language": "python",
   "name": "python3"
  },
  "language_info": {
   "codemirror_mode": {
    "name": "ipython",
    "version": 3
   },
   "file_extension": ".py",
   "mimetype": "text/x-python",
   "name": "python",
   "nbconvert_exporter": "python",
   "pygments_lexer": "ipython3",
   "version": "3.10.10"
  }
 },
 "nbformat": 4,
 "nbformat_minor": 2
}
