{
 "cells": [
  {
   "cell_type": "code",
   "execution_count": 1,
   "metadata": {},
   "outputs": [],
   "source": [
    "import pandas as pd"
   ]
  },
  {
   "cell_type": "code",
   "execution_count": 9,
   "metadata": {},
   "outputs": [],
   "source": [
    "import os\n",
    "import pandas as pd\n",
    "\n",
    "# Get the current working directory\n",
    "current_directory = os.getcwd()\n",
    "\n",
    "# Build the full path\n",
    "file_path = os.path.join(current_directory, '..', 'scraped_data', 'news_articles.csv')\n",
    "\n",
    "try:\n",
    "    data = pd.read_csv(file_path)\n",
    "except FileNotFoundError:\n",
    "    print(\"File not found. Please check the path.\")\n"
   ]
  },
  {
   "cell_type": "code",
   "execution_count": 11,
   "metadata": {},
   "outputs": [
    {
     "name": "stdout",
     "output_type": "stream",
     "text": [
      "<class 'pandas.core.frame.DataFrame'>\n",
      "RangeIndex: 10 entries, 0 to 9\n",
      "Data columns (total 4 columns):\n",
      " #   Column        Non-Null Count  Dtype \n",
      "---  ------        --------------  ----- \n",
      " 0   Unnamed: 0    10 non-null     int64 \n",
      " 1   Headline      10 non-null     object\n",
      " 2   Link          10 non-null     object\n",
      " 3   Full Article  10 non-null     object\n",
      "dtypes: int64(1), object(3)\n",
      "memory usage: 448.0+ bytes\n"
     ]
    }
   ],
   "source": [
    "data.info()"
   ]
  },
  {
   "cell_type": "code",
   "execution_count": 12,
   "metadata": {},
   "outputs": [
    {
     "name": "stdout",
     "output_type": "stream",
     "text": [
      "Requirement already satisfied: textblob in c:\\users\\syam\\appdata\\local\\programs\\python\\python310\\lib\\site-packages (0.18.0.post0)\n",
      "Requirement already satisfied: nltk>=3.8 in c:\\users\\syam\\appdata\\local\\programs\\python\\python310\\lib\\site-packages (from textblob) (3.8.1)\n",
      "Requirement already satisfied: click in c:\\users\\syam\\appdata\\local\\programs\\python\\python310\\lib\\site-packages (from nltk>=3.8->textblob) (8.1.7)\n",
      "Requirement already satisfied: joblib in c:\\users\\syam\\appdata\\local\\programs\\python\\python310\\lib\\site-packages (from nltk>=3.8->textblob) (1.3.1)\n",
      "Requirement already satisfied: regex>=2021.8.3 in c:\\users\\syam\\appdata\\local\\programs\\python\\python310\\lib\\site-packages (from nltk>=3.8->textblob) (2024.5.15)\n",
      "Requirement already satisfied: tqdm in c:\\users\\syam\\appdata\\local\\programs\\python\\python310\\lib\\site-packages (from nltk>=3.8->textblob) (4.66.4)\n",
      "Requirement already satisfied: colorama in c:\\users\\syam\\appdata\\local\\programs\\python\\python310\\lib\\site-packages (from click->nltk>=3.8->textblob) (0.4.6)\n"
     ]
    },
    {
     "name": "stderr",
     "output_type": "stream",
     "text": [
      "WARNING: Ignoring invalid distribution -treamlit (c:\\users\\syam\\appdata\\local\\programs\\python\\python310\\lib\\site-packages)\n",
      "WARNING: Ignoring invalid distribution -treamlit (c:\\users\\syam\\appdata\\local\\programs\\python\\python310\\lib\\site-packages)\n",
      "WARNING: Ignoring invalid distribution -treamlit (c:\\users\\syam\\appdata\\local\\programs\\python\\python310\\lib\\site-packages)\n"
     ]
    }
   ],
   "source": [
    "!pip install textblob"
   ]
  },
  {
   "cell_type": "code",
   "execution_count": 13,
   "metadata": {},
   "outputs": [],
   "source": [
    "from textblob import TextBlob"
   ]
  },
  {
   "cell_type": "code",
   "execution_count": 14,
   "metadata": {},
   "outputs": [],
   "source": [
    "def analyze_sentiment(text):\n",
    "    blob = TextBlob(text)\n",
    "    positive_sentiment = max(blob.sentiment.polarity, 0)\n",
    "    negative_sentiment = -min(blob.sentiment.polarity, 0)\n",
    "    return positive_sentiment, negative_sentiment\n"
   ]
  },
  {
   "cell_type": "code",
   "execution_count": 16,
   "metadata": {},
   "outputs": [],
   "source": [
    "data['Combined Text'] = data['Headline'] + \" \" + data['Full Article']"
   ]
  },
  {
   "cell_type": "code",
   "execution_count": null,
   "metadata": {},
   "outputs": [],
   "source": []
  },
  {
   "cell_type": "code",
   "execution_count": 17,
   "metadata": {},
   "outputs": [
    {
     "name": "stdout",
     "output_type": "stream",
     "text": [
      "<class 'pandas.core.frame.DataFrame'>\n",
      "RangeIndex: 10 entries, 0 to 9\n",
      "Data columns (total 5 columns):\n",
      " #   Column         Non-Null Count  Dtype \n",
      "---  ------         --------------  ----- \n",
      " 0   Unnamed: 0     10 non-null     int64 \n",
      " 1   Headline       10 non-null     object\n",
      " 2   Link           10 non-null     object\n",
      " 3   Full Article   10 non-null     object\n",
      " 4   Combined Text  10 non-null     object\n",
      "dtypes: int64(1), object(4)\n",
      "memory usage: 528.0+ bytes\n"
     ]
    }
   ],
   "source": [
    "data.info()"
   ]
  },
  {
   "cell_type": "code",
   "execution_count": 18,
   "metadata": {},
   "outputs": [],
   "source": [
    "# Create new columns for sentiment analysis of the combined text\n",
    "data[['Positive Combined', 'Negative Combined']] = data['Combined Text'].apply(lambda x: pd.Series(analyze_sentiment(x)))\n"
   ]
  },
  {
   "cell_type": "code",
   "execution_count": 19,
   "metadata": {},
   "outputs": [
    {
     "data": {
      "text/html": [
       "<div>\n",
       "<style scoped>\n",
       "    .dataframe tbody tr th:only-of-type {\n",
       "        vertical-align: middle;\n",
       "    }\n",
       "\n",
       "    .dataframe tbody tr th {\n",
       "        vertical-align: top;\n",
       "    }\n",
       "\n",
       "    .dataframe thead th {\n",
       "        text-align: right;\n",
       "    }\n",
       "</style>\n",
       "<table border=\"1\" class=\"dataframe\">\n",
       "  <thead>\n",
       "    <tr style=\"text-align: right;\">\n",
       "      <th></th>\n",
       "      <th>Unnamed: 0</th>\n",
       "      <th>Headline</th>\n",
       "      <th>Link</th>\n",
       "      <th>Full Article</th>\n",
       "      <th>Combined Text</th>\n",
       "      <th>Positive Combined</th>\n",
       "      <th>Negative Combined</th>\n",
       "    </tr>\n",
       "  </thead>\n",
       "  <tbody>\n",
       "    <tr>\n",
       "      <th>0</th>\n",
       "      <td>0</td>\n",
       "      <td>How Elon Musk's SpaceX Starlink satellites are...</td>\n",
       "      <td>https://www.moneycontrol.com/science/how-elon-...</td>\n",
       "      <td>See the top gainers, losers, invest and get up...</td>\n",
       "      <td>How Elon Musk's SpaceX Starlink satellites are...</td>\n",
       "      <td>0.149894</td>\n",
       "      <td>0.0</td>\n",
       "    </tr>\n",
       "    <tr>\n",
       "      <th>1</th>\n",
       "      <td>1</td>\n",
       "      <td>Elon Musk now controls 62% of Earth’s active s...</td>\n",
       "      <td>https://tribune.com.pk/story/2494504/elon-musk...</td>\n",
       "      <td>SpaceX’s Starlink network is growing by an ave...</td>\n",
       "      <td>Elon Musk now controls 62% of Earth’s active s...</td>\n",
       "      <td>0.082917</td>\n",
       "      <td>0.0</td>\n",
       "    </tr>\n",
       "    <tr>\n",
       "      <th>2</th>\n",
       "      <td>2</td>\n",
       "      <td>Scientists say Elon Musk's Starlink satellites...</td>\n",
       "      <td>https://www.firstpost.com/tech/scientists-say-...</td>\n",
       "      <td>The latest generation of Starlink satellites i...</td>\n",
       "      <td>Scientists say Elon Musk's Starlink satellites...</td>\n",
       "      <td>0.094418</td>\n",
       "      <td>0.0</td>\n",
       "    </tr>\n",
       "    <tr>\n",
       "      <th>3</th>\n",
       "      <td>3</td>\n",
       "      <td>Spacex Ceo Elon Musk Canadian Government Fundi...</td>\n",
       "      <td>https://thedroidguy.com/spacex-ceo-elon-musk-c...</td>\n",
       "      <td>SpaceX CEO Elon Musk Criticizes Canadian Gover...</td>\n",
       "      <td>Spacex Ceo Elon Musk Canadian Government Fundi...</td>\n",
       "      <td>0.090459</td>\n",
       "      <td>0.0</td>\n",
       "    </tr>\n",
       "    <tr>\n",
       "      <th>4</th>\n",
       "      <td>4</td>\n",
       "      <td>How Elon Musk’s SpaceX began a new ‘Space Race...</td>\n",
       "      <td>https://nypost.com/2024/09/21/tech/elon-musks-...</td>\n",
       "      <td>In 2005, three years before its first successf...</td>\n",
       "      <td>How Elon Musk’s SpaceX began a new ‘Space Race...</td>\n",
       "      <td>0.146368</td>\n",
       "      <td>0.0</td>\n",
       "    </tr>\n",
       "  </tbody>\n",
       "</table>\n",
       "</div>"
      ],
      "text/plain": [
       "   Unnamed: 0                                           Headline  \\\n",
       "0           0  How Elon Musk's SpaceX Starlink satellites are...   \n",
       "1           1  Elon Musk now controls 62% of Earth’s active s...   \n",
       "2           2  Scientists say Elon Musk's Starlink satellites...   \n",
       "3           3  Spacex Ceo Elon Musk Canadian Government Fundi...   \n",
       "4           4  How Elon Musk’s SpaceX began a new ‘Space Race...   \n",
       "\n",
       "                                                Link  \\\n",
       "0  https://www.moneycontrol.com/science/how-elon-...   \n",
       "1  https://tribune.com.pk/story/2494504/elon-musk...   \n",
       "2  https://www.firstpost.com/tech/scientists-say-...   \n",
       "3  https://thedroidguy.com/spacex-ceo-elon-musk-c...   \n",
       "4  https://nypost.com/2024/09/21/tech/elon-musks-...   \n",
       "\n",
       "                                        Full Article  \\\n",
       "0  See the top gainers, losers, invest and get up...   \n",
       "1  SpaceX’s Starlink network is growing by an ave...   \n",
       "2  The latest generation of Starlink satellites i...   \n",
       "3  SpaceX CEO Elon Musk Criticizes Canadian Gover...   \n",
       "4  In 2005, three years before its first successf...   \n",
       "\n",
       "                                       Combined Text  Positive Combined  \\\n",
       "0  How Elon Musk's SpaceX Starlink satellites are...           0.149894   \n",
       "1  Elon Musk now controls 62% of Earth’s active s...           0.082917   \n",
       "2  Scientists say Elon Musk's Starlink satellites...           0.094418   \n",
       "3  Spacex Ceo Elon Musk Canadian Government Fundi...           0.090459   \n",
       "4  How Elon Musk’s SpaceX began a new ‘Space Race...           0.146368   \n",
       "\n",
       "   Negative Combined  \n",
       "0                0.0  \n",
       "1                0.0  \n",
       "2                0.0  \n",
       "3                0.0  \n",
       "4                0.0  "
      ]
     },
     "execution_count": 19,
     "metadata": {},
     "output_type": "execute_result"
    }
   ],
   "source": [
    "data.head()"
   ]
  },
  {
   "cell_type": "code",
   "execution_count": 20,
   "metadata": {},
   "outputs": [
    {
     "name": "stdout",
     "output_type": "stream",
     "text": [
      "<class 'pandas.core.frame.DataFrame'>\n",
      "RangeIndex: 10 entries, 0 to 9\n",
      "Data columns (total 7 columns):\n",
      " #   Column             Non-Null Count  Dtype  \n",
      "---  ------             --------------  -----  \n",
      " 0   Unnamed: 0         10 non-null     int64  \n",
      " 1   Headline           10 non-null     object \n",
      " 2   Link               10 non-null     object \n",
      " 3   Full Article       10 non-null     object \n",
      " 4   Combined Text      10 non-null     object \n",
      " 5   Positive Combined  10 non-null     float64\n",
      " 6   Negative Combined  10 non-null     float64\n",
      "dtypes: float64(2), int64(1), object(4)\n",
      "memory usage: 688.0+ bytes\n"
     ]
    }
   ],
   "source": [
    "data.info()"
   ]
  },
  {
   "cell_type": "code",
   "execution_count": 21,
   "metadata": {},
   "outputs": [],
   "source": [
    "# Create a list of dictionaries in the desired format\n",
    "json_list = []\n",
    "for _, row in data.iterrows():\n",
    "    json_list.append({\n",
    "        'url': row['Link'],\n",
    "        'headline': row['Headline'],\n",
    "        'positive': row['Positive Combined'],\n",
    "        'negative': row['Negative Combined']\n",
    "    })"
   ]
  },
  {
   "cell_type": "code",
   "execution_count": 22,
   "metadata": {},
   "outputs": [],
   "source": [
    "import json"
   ]
  },
  {
   "cell_type": "code",
   "execution_count": 24,
   "metadata": {},
   "outputs": [],
   "source": [
    "# Convert to JSON string\n",
    "json_output = json.dumps(json_list, indent=4)\n",
    "\n",
    "# Save to a JSON file\n",
    "file_path = r\"..\\analyzed_data\\news_articles.json\"\n",
    "with open(file_path, 'w') as json_file:\n",
    "    json_file.write(json_output)"
   ]
  },
  {
   "cell_type": "code",
   "execution_count": null,
   "metadata": {},
   "outputs": [],
   "source": []
  }
 ],
 "metadata": {
  "kernelspec": {
   "display_name": "Python 3",
   "language": "python",
   "name": "python3"
  },
  "language_info": {
   "codemirror_mode": {
    "name": "ipython",
    "version": 3
   },
   "file_extension": ".py",
   "mimetype": "text/x-python",
   "name": "python",
   "nbconvert_exporter": "python",
   "pygments_lexer": "ipython3",
   "version": "3.10.10"
  }
 },
 "nbformat": 4,
 "nbformat_minor": 2
}
