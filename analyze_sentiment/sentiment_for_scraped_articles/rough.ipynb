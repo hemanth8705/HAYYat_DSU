{
 "cells": [
  {
   "cell_type": "code",
   "execution_count": 1,
   "metadata": {},
   "outputs": [],
   "source": [
    "import pandas as pd"
   ]
  },
  {
   "cell_type": "code",
   "execution_count": 9,
   "metadata": {},
   "outputs": [],
   "source": [
    "import os\n",
    "import pandas as pd\n",
    "\n",
    "# Get the current working directory\n",
    "current_directory = os.getcwd()\n",
    "\n",
    "# Build the full path\n",
    "file_path = os.path.join(current_directory, '..', 'scraped_data', 'news_articles.csv')\n",
    "\n",
    "try:\n",
    "    data = pd.read_csv(file_path)\n",
    "except FileNotFoundError:\n",
    "    print(\"File not found. Please check the path.\")\n"
   ]
  },
  {
   "cell_type": "code",
   "execution_count": 10,
   "metadata": {},
   "outputs": [
    {
     "data": {
      "text/html": [
       "<div>\n",
       "<style scoped>\n",
       "    .dataframe tbody tr th:only-of-type {\n",
       "        vertical-align: middle;\n",
       "    }\n",
       "\n",
       "    .dataframe tbody tr th {\n",
       "        vertical-align: top;\n",
       "    }\n",
       "\n",
       "    .dataframe thead th {\n",
       "        text-align: right;\n",
       "    }\n",
       "</style>\n",
       "<table border=\"1\" class=\"dataframe\">\n",
       "  <thead>\n",
       "    <tr style=\"text-align: right;\">\n",
       "      <th></th>\n",
       "      <th>Unnamed: 0</th>\n",
       "      <th>Headline</th>\n",
       "      <th>Link</th>\n",
       "      <th>Full Article</th>\n",
       "    </tr>\n",
       "  </thead>\n",
       "  <tbody>\n",
       "    <tr>\n",
       "      <th>0</th>\n",
       "      <td>0</td>\n",
       "      <td>How Elon Musk's SpaceX Starlink satellites are...</td>\n",
       "      <td>https://www.moneycontrol.com/science/how-elon-...</td>\n",
       "      <td>See the top gainers, losers, invest and get up...</td>\n",
       "    </tr>\n",
       "    <tr>\n",
       "      <th>1</th>\n",
       "      <td>1</td>\n",
       "      <td>Elon Musk now controls 62% of Earth’s active s...</td>\n",
       "      <td>https://tribune.com.pk/story/2494504/elon-musk...</td>\n",
       "      <td>SpaceX’s Starlink network is growing by an ave...</td>\n",
       "    </tr>\n",
       "    <tr>\n",
       "      <th>2</th>\n",
       "      <td>2</td>\n",
       "      <td>Scientists say Elon Musk's Starlink satellites...</td>\n",
       "      <td>https://www.firstpost.com/tech/scientists-say-...</td>\n",
       "      <td>The latest generation of Starlink satellites i...</td>\n",
       "    </tr>\n",
       "    <tr>\n",
       "      <th>3</th>\n",
       "      <td>3</td>\n",
       "      <td>Spacex Ceo Elon Musk Canadian Government Fundi...</td>\n",
       "      <td>https://thedroidguy.com/spacex-ceo-elon-musk-c...</td>\n",
       "      <td>SpaceX CEO Elon Musk Criticizes Canadian Gover...</td>\n",
       "    </tr>\n",
       "    <tr>\n",
       "      <th>4</th>\n",
       "      <td>4</td>\n",
       "      <td>How Elon Musk’s SpaceX began a new ‘Space Race...</td>\n",
       "      <td>https://nypost.com/2024/09/21/tech/elon-musks-...</td>\n",
       "      <td>In 2005, three years before its first successf...</td>\n",
       "    </tr>\n",
       "  </tbody>\n",
       "</table>\n",
       "</div>"
      ],
      "text/plain": [
       "   Unnamed: 0                                           Headline  \\\n",
       "0           0  How Elon Musk's SpaceX Starlink satellites are...   \n",
       "1           1  Elon Musk now controls 62% of Earth’s active s...   \n",
       "2           2  Scientists say Elon Musk's Starlink satellites...   \n",
       "3           3  Spacex Ceo Elon Musk Canadian Government Fundi...   \n",
       "4           4  How Elon Musk’s SpaceX began a new ‘Space Race...   \n",
       "\n",
       "                                                Link  \\\n",
       "0  https://www.moneycontrol.com/science/how-elon-...   \n",
       "1  https://tribune.com.pk/story/2494504/elon-musk...   \n",
       "2  https://www.firstpost.com/tech/scientists-say-...   \n",
       "3  https://thedroidguy.com/spacex-ceo-elon-musk-c...   \n",
       "4  https://nypost.com/2024/09/21/tech/elon-musks-...   \n",
       "\n",
       "                                        Full Article  \n",
       "0  See the top gainers, losers, invest and get up...  \n",
       "1  SpaceX’s Starlink network is growing by an ave...  \n",
       "2  The latest generation of Starlink satellites i...  \n",
       "3  SpaceX CEO Elon Musk Criticizes Canadian Gover...  \n",
       "4  In 2005, three years before its first successf...  "
      ]
     },
     "execution_count": 10,
     "metadata": {},
     "output_type": "execute_result"
    }
   ],
   "source": [
    "data.head()"
   ]
  },
  {
   "cell_type": "code",
   "execution_count": null,
   "metadata": {},
   "outputs": [],
   "source": []
  }
 ],
 "metadata": {
  "kernelspec": {
   "display_name": "Python 3",
   "language": "python",
   "name": "python3"
  },
  "language_info": {
   "codemirror_mode": {
    "name": "ipython",
    "version": 3
   },
   "file_extension": ".py",
   "mimetype": "text/x-python",
   "name": "python",
   "nbconvert_exporter": "python",
   "pygments_lexer": "ipython3",
   "version": "3.10.10"
  }
 },
 "nbformat": 4,
 "nbformat_minor": 2
}
