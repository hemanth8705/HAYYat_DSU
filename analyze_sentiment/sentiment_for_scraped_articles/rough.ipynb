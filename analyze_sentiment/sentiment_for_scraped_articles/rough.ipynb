{
 "cells": [
  {
   "cell_type": "code",
   "execution_count": 1,
   "metadata": {},
   "outputs": [],
   "source": [
    "import pandas as pd"
   ]
  },
  {
   "cell_type": "code",
   "execution_count": 4,
   "metadata": {},
   "outputs": [],
   "source": [
    "import os\n",
    "import pandas as pd\n",
    "\n",
    "# Get the current working directory\n",
    "current_directory = os.getcwd()\n",
    "\n",
    "# Build the full path\n",
    "file_path =  r'../../scraped_data/news_articles.csv'\n",
    "try:\n",
    "    data = pd.read_csv(file_path)\n",
    "except FileNotFoundError:\n",
    "    print(\"File not found. Please check the path.\")\n"
   ]
  },
  {
   "cell_type": "code",
   "execution_count": 5,
   "metadata": {},
   "outputs": [
    {
     "data": {
      "text/plain": [
       "'../../scraped_data/news_articles.csv'"
      ]
     },
     "execution_count": 5,
     "metadata": {},
     "output_type": "execute_result"
    }
   ],
   "source": [
    "file_path"
   ]
  },
  {
   "cell_type": "code",
   "execution_count": 3,
   "metadata": {},
   "outputs": [
    {
     "name": "stdout",
     "output_type": "stream",
     "text": [
      "<class 'pandas.core.frame.DataFrame'>\n",
      "RangeIndex: 10 entries, 0 to 9\n",
      "Data columns (total 4 columns):\n",
      " #   Column        Non-Null Count  Dtype \n",
      "---  ------        --------------  ----- \n",
      " 0   Unnamed: 0    10 non-null     int64 \n",
      " 1   Headline      10 non-null     object\n",
      " 2   Link          10 non-null     object\n",
      " 3   Full Article  10 non-null     object\n",
      "dtypes: int64(1), object(3)\n",
      "memory usage: 448.0+ bytes\n"
     ]
    }
   ],
   "source": [
    "data.info()"
   ]
  },
  {
   "cell_type": "code",
   "execution_count": 4,
   "metadata": {},
   "outputs": [],
   "source": [
    "from textblob import TextBlob"
   ]
  },
  {
   "cell_type": "code",
   "execution_count": 21,
   "metadata": {},
   "outputs": [],
   "source": [
    "def analyze_sentiment(text):\n",
    "    blob = TextBlob(text)\n",
    "    print(blob.sentiment.polarity)\n",
    "    positive_sentiment = max(blob.sentiment.polarity, 0)\n",
    "    positive_sentiment = round(positive_sentiment, 2)\n",
    "    negative_sentiment = min(blob.sentiment.polarity, 0)\n",
    "    negative_sentiment = round(negative_sentiment, 2)\n",
    "    if positive_sentiment != 0:\n",
    "        return \"Positive\",positive_sentiment\n",
    "    return \"Negative\",negative_sentiment\n"
   ]
  },
  {
   "cell_type": "code",
   "execution_count": 24,
   "metadata": {},
   "outputs": [
    {
     "name": "stdout",
     "output_type": "stream",
     "text": [
      "0.14989429175475688\n"
     ]
    },
    {
     "data": {
      "text/plain": [
       "('Positive', 0.15)"
      ]
     },
     "execution_count": 24,
     "metadata": {},
     "output_type": "execute_result"
    }
   ],
   "source": [
    "text = '''\n",
    "See the top losers, invest and get updated what's happening in the crypto market India's Largest Regional Retail Option Traders Summit. (BOTS) is a prestigious options trading event organized by Traders Gurukul. Held on the 2nd OR 3rd Sunday of every month, across top cities in India This functionality will provide users with ease of access navigation and enable create a new revenue line by generating leads of potential customers for brokers in a more integrated manner. Starlink satellites, launched by Elon MuskÃ¢â‚¬â„¢s SpaceX, are causing issues for astronomers. A new study, published Wednesday in Astronomy & Astrophysics, highlights the growing problem. The network, comprising over 6,300 satellites, delivers high-speed internet to remote locations. However, it also generates unintended electromagnetic radiation (UEMR), disrupting radio astronomy.Why Radio Astronomy MattersRadio astronomy focuses on studying space at radio frequencies. Unlike optical telescopes, which detect visible light, radio telescopes capture radio waves from space. Just like bright lights can overwhelm human eyes, UEMR from satellites can blind radio telescopes. Cees Bassa, from the Netherlands Institute for Radio Astronomy, explains the impact. Observing near a satellite is like spotting a faint star next to a full moon. Read Also:Ã‚Â Earth set to welcome a new mini-moon on September 29; key details revealed Benjamin Winkel, from the Max Planck Institute, elaborates further. Ã¢â‚¬Å›ItÃ¢â‚¬â„¢s blinding,Ã¢â‚¬Å¥ Winkel states. Radio telescopes become saturated with UEMR, much like eyes overloaded with light.Second-Generation Satellites Worsen the SituationThe study reveals that Starlink's newer satellites, less than a third of the fleet, emit 32 times more UEMR than the older ones. This problem exists despite SpaceX trying to reduce UEMR in its first-generation satellites. Winkel notes that while some improvements were made to earlier models, the new ones are significantly brighter. With satellite launches becoming more affordable, the issue could worsen. Estimates suggest up to 100,000 satellites may orbit Earth by 2030. In June 2023, UNOOSA estimated there were 11,330 satellites in orbit. Read Also:Ã‚Â Sunita Williams, stuck in space for months, takes command of the ISS once again as NASA prepares a rescue missionThe Need for RegulationExperts believe regulations for satellite emissions are essential. Current ground-based electronics, like cellphone towers, have limits on radio pollution. The same should apply to satellites. Winkel explains that while leaks are inevitable, the amount needs strict control. Currently, astronomers rely on goodwill agreements with companies like Starlink to manage satellite interference. Regulations, however, could provide more consistent protection. This rising interference signals the need for tighter control as the satellite population grows.\n",
    "                               Discover the latest business news, Sensex, and Nifty updates. Obtain Personal Finance insights, tax queries, and expert opinions on Moneycontrol or download the Moneycontrol App to stay updated!\n",
    "              Copyright Ã‚Â© e-Eighteen.com Ltd. All rights reserved. Reproduction of news articles, photos, videos or any other content in whole or in part in any form \n",
    "        or medium without express writtern permission of moneycontrol.com is prohibited. You are already a Moneycontrol Pro user.\n",
    "\n",
    "'''\n",
    "analyze_sentiment(text)"
   ]
  },
  {
   "cell_type": "code",
   "execution_count": 16,
   "metadata": {},
   "outputs": [
    {
     "name": "stdout",
     "output_type": "stream",
     "text": [
      "0.0\n"
     ]
    },
    {
     "data": {
      "text/plain": [
       "(0.0, -0.0)"
      ]
     },
     "execution_count": 16,
     "metadata": {},
     "output_type": "execute_result"
    }
   ],
   "source": [
    "text = '''\n",
    "get out\n",
    "'''\n",
    "analyze_sentiment(text)"
   ]
  },
  {
   "cell_type": "code",
   "execution_count": 25,
   "metadata": {},
   "outputs": [],
   "source": [
    "data['Combined Text'] = data['Headline'] + \" \" + data['Full Article']"
   ]
  },
  {
   "cell_type": "code",
   "execution_count": 26,
   "metadata": {},
   "outputs": [
    {
     "name": "stdout",
     "output_type": "stream",
     "text": [
      "<class 'pandas.core.frame.DataFrame'>\n",
      "RangeIndex: 10 entries, 0 to 9\n",
      "Data columns (total 5 columns):\n",
      " #   Column         Non-Null Count  Dtype \n",
      "---  ------         --------------  ----- \n",
      " 0   Unnamed: 0     10 non-null     int64 \n",
      " 1   Headline       10 non-null     object\n",
      " 2   Link           10 non-null     object\n",
      " 3   Full Article   10 non-null     object\n",
      " 4   Combined Text  10 non-null     object\n",
      "dtypes: int64(1), object(4)\n",
      "memory usage: 528.0+ bytes\n"
     ]
    }
   ],
   "source": [
    "data.info()"
   ]
  },
  {
   "cell_type": "code",
   "execution_count": 27,
   "metadata": {},
   "outputs": [
    {
     "name": "stdout",
     "output_type": "stream",
     "text": [
      "0.14989429175475688\n",
      "0.08291666666666668\n",
      "0.09441844919786099\n",
      "0.09045928030303031\n",
      "0.1463683329249367\n",
      "0.14071428571428574\n",
      "0.07925015460729747\n",
      "0.08291666666666668\n",
      "0.06849376114081995\n",
      "0.057003968253968265\n"
     ]
    }
   ],
   "source": [
    "# Create new columns for sentiment analysis of the combined text\n",
    "data[['sentiment', 'intensity']] = data['Combined Text'].apply(lambda x: pd.Series(analyze_sentiment(x)))\n"
   ]
  },
  {
   "cell_type": "code",
   "execution_count": 28,
   "metadata": {},
   "outputs": [
    {
     "data": {
      "text/html": [
       "<div>\n",
       "<style scoped>\n",
       "    .dataframe tbody tr th:only-of-type {\n",
       "        vertical-align: middle;\n",
       "    }\n",
       "\n",
       "    .dataframe tbody tr th {\n",
       "        vertical-align: top;\n",
       "    }\n",
       "\n",
       "    .dataframe thead th {\n",
       "        text-align: right;\n",
       "    }\n",
       "</style>\n",
       "<table border=\"1\" class=\"dataframe\">\n",
       "  <thead>\n",
       "    <tr style=\"text-align: right;\">\n",
       "      <th></th>\n",
       "      <th>Unnamed: 0</th>\n",
       "      <th>Headline</th>\n",
       "      <th>Link</th>\n",
       "      <th>Full Article</th>\n",
       "      <th>Combined Text</th>\n",
       "      <th>sentiment</th>\n",
       "      <th>intensity</th>\n",
       "    </tr>\n",
       "  </thead>\n",
       "  <tbody>\n",
       "    <tr>\n",
       "      <th>0</th>\n",
       "      <td>0</td>\n",
       "      <td>How Elon Musk's SpaceX Starlink satellites are...</td>\n",
       "      <td>https://www.moneycontrol.com/science/how-elon-...</td>\n",
       "      <td>See the top gainers, losers, invest and get up...</td>\n",
       "      <td>How Elon Musk's SpaceX Starlink satellites are...</td>\n",
       "      <td>Positive</td>\n",
       "      <td>0.15</td>\n",
       "    </tr>\n",
       "    <tr>\n",
       "      <th>1</th>\n",
       "      <td>1</td>\n",
       "      <td>Elon Musk now controls 62% of Earth’s active s...</td>\n",
       "      <td>https://tribune.com.pk/story/2494504/elon-musk...</td>\n",
       "      <td>SpaceX’s Starlink network is growing by an ave...</td>\n",
       "      <td>Elon Musk now controls 62% of Earth’s active s...</td>\n",
       "      <td>Positive</td>\n",
       "      <td>0.08</td>\n",
       "    </tr>\n",
       "    <tr>\n",
       "      <th>2</th>\n",
       "      <td>2</td>\n",
       "      <td>Scientists say Elon Musk's Starlink satellites...</td>\n",
       "      <td>https://www.firstpost.com/tech/scientists-say-...</td>\n",
       "      <td>The latest generation of Starlink satellites i...</td>\n",
       "      <td>Scientists say Elon Musk's Starlink satellites...</td>\n",
       "      <td>Positive</td>\n",
       "      <td>0.09</td>\n",
       "    </tr>\n",
       "    <tr>\n",
       "      <th>3</th>\n",
       "      <td>3</td>\n",
       "      <td>Spacex Ceo Elon Musk Canadian Government Fundi...</td>\n",
       "      <td>https://thedroidguy.com/spacex-ceo-elon-musk-c...</td>\n",
       "      <td>SpaceX CEO Elon Musk Criticizes Canadian Gover...</td>\n",
       "      <td>Spacex Ceo Elon Musk Canadian Government Fundi...</td>\n",
       "      <td>Positive</td>\n",
       "      <td>0.09</td>\n",
       "    </tr>\n",
       "    <tr>\n",
       "      <th>4</th>\n",
       "      <td>4</td>\n",
       "      <td>How Elon Musk’s SpaceX began a new ‘Space Race...</td>\n",
       "      <td>https://nypost.com/2024/09/21/tech/elon-musks-...</td>\n",
       "      <td>In 2005, three years before its first successf...</td>\n",
       "      <td>How Elon Musk’s SpaceX began a new ‘Space Race...</td>\n",
       "      <td>Positive</td>\n",
       "      <td>0.15</td>\n",
       "    </tr>\n",
       "  </tbody>\n",
       "</table>\n",
       "</div>"
      ],
      "text/plain": [
       "   Unnamed: 0                                           Headline  \\\n",
       "0           0  How Elon Musk's SpaceX Starlink satellites are...   \n",
       "1           1  Elon Musk now controls 62% of Earth’s active s...   \n",
       "2           2  Scientists say Elon Musk's Starlink satellites...   \n",
       "3           3  Spacex Ceo Elon Musk Canadian Government Fundi...   \n",
       "4           4  How Elon Musk’s SpaceX began a new ‘Space Race...   \n",
       "\n",
       "                                                Link  \\\n",
       "0  https://www.moneycontrol.com/science/how-elon-...   \n",
       "1  https://tribune.com.pk/story/2494504/elon-musk...   \n",
       "2  https://www.firstpost.com/tech/scientists-say-...   \n",
       "3  https://thedroidguy.com/spacex-ceo-elon-musk-c...   \n",
       "4  https://nypost.com/2024/09/21/tech/elon-musks-...   \n",
       "\n",
       "                                        Full Article  \\\n",
       "0  See the top gainers, losers, invest and get up...   \n",
       "1  SpaceX’s Starlink network is growing by an ave...   \n",
       "2  The latest generation of Starlink satellites i...   \n",
       "3  SpaceX CEO Elon Musk Criticizes Canadian Gover...   \n",
       "4  In 2005, three years before its first successf...   \n",
       "\n",
       "                                       Combined Text sentiment  intensity  \n",
       "0  How Elon Musk's SpaceX Starlink satellites are...  Positive       0.15  \n",
       "1  Elon Musk now controls 62% of Earth’s active s...  Positive       0.08  \n",
       "2  Scientists say Elon Musk's Starlink satellites...  Positive       0.09  \n",
       "3  Spacex Ceo Elon Musk Canadian Government Fundi...  Positive       0.09  \n",
       "4  How Elon Musk’s SpaceX began a new ‘Space Race...  Positive       0.15  "
      ]
     },
     "execution_count": 28,
     "metadata": {},
     "output_type": "execute_result"
    }
   ],
   "source": [
    "data.head()"
   ]
  },
  {
   "cell_type": "code",
   "execution_count": 29,
   "metadata": {},
   "outputs": [
    {
     "name": "stdout",
     "output_type": "stream",
     "text": [
      "<class 'pandas.core.frame.DataFrame'>\n",
      "RangeIndex: 10 entries, 0 to 9\n",
      "Data columns (total 7 columns):\n",
      " #   Column         Non-Null Count  Dtype  \n",
      "---  ------         --------------  -----  \n",
      " 0   Unnamed: 0     10 non-null     int64  \n",
      " 1   Headline       10 non-null     object \n",
      " 2   Link           10 non-null     object \n",
      " 3   Full Article   10 non-null     object \n",
      " 4   Combined Text  10 non-null     object \n",
      " 5   sentiment      10 non-null     object \n",
      " 6   intensity      10 non-null     float64\n",
      "dtypes: float64(1), int64(1), object(5)\n",
      "memory usage: 688.0+ bytes\n"
     ]
    }
   ],
   "source": [
    "data.info()"
   ]
  },
  {
   "cell_type": "code",
   "execution_count": 30,
   "metadata": {},
   "outputs": [],
   "source": [
    "# Create a list of dictionaries in the desired format\n",
    "json_list = []\n",
    "for _, row in data.iterrows():\n",
    "    json_list.append({\n",
    "        'url': row['Link'],\n",
    "        'headline': row['Headline'],\n",
    "        'sentiment': row['sentiment'],\n",
    "        'intensity': row['intensity']\n",
    "    })"
   ]
  },
  {
   "cell_type": "code",
   "execution_count": 32,
   "metadata": {},
   "outputs": [],
   "source": [
    "import json"
   ]
  },
  {
   "cell_type": "code",
   "execution_count": 33,
   "metadata": {},
   "outputs": [],
   "source": [
    "# Convert to JSON string\n",
    "json_output = json.dumps(json_list, indent=4)\n",
    "\n",
    "# Save to a JSON file\n",
    "file_path = r\"..\\analyzed_data\\news_articles.json\"\n",
    "with open(file_path, 'w') as json_file:\n",
    "    json_file.write(json_output)"
   ]
  },
  {
   "cell_type": "code",
   "execution_count": null,
   "metadata": {},
   "outputs": [],
   "source": []
  }
 ],
 "metadata": {
  "kernelspec": {
   "display_name": "Python 3",
   "language": "python",
   "name": "python3"
  },
  "language_info": {
   "codemirror_mode": {
    "name": "ipython",
    "version": 3
   },
   "file_extension": ".py",
   "mimetype": "text/x-python",
   "name": "python",
   "nbconvert_exporter": "python",
   "pygments_lexer": "ipython3",
   "version": "3.10.10"
  }
 },
 "nbformat": 4,
 "nbformat_minor": 2
}
