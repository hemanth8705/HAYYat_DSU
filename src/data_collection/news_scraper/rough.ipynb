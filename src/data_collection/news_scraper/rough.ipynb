{
 "cells": [
  {
   "cell_type": "code",
   "execution_count": 5,
   "metadata": {},
   "outputs": [
    {
     "name": "stdout",
     "output_type": "stream",
     "text": [
      "Sign-in or CAPTCHA detected at https://timesofindia.indiatimes.com/entertainment/telugu/movies/news/fans-break-chairs-as-devara-pre-release-event-gets-cancelled-venue-overflows/articleshow/113582480.cms. Skipping article.\n",
      "Sign-in or CAPTCHA detected at https://timesofindia.indiatimes.com/entertainment/telugu/movies/news/devara-part-1-pre-release-event-cancelled-jr-ntr-expresses-diasppointment/articleshow/113586651.cms. Skipping article.\n",
      "Redirected to https://www.msn.com/en-in. This may require sign-in.\n",
      "Sign-in or CAPTCHA detected at https://timesofindia.indiatimes.com/entertainment/telugu/movies/news/fans-break-chairs-as-devara-pre-release-event-gets-cancelled-venue-overflows/articleshow/113582480.cms. Skipping article.\n",
      "Sign-in or CAPTCHA detected at https://www.hindustantimes.com/htcity/cinema/fans-heartbroken-as-devara-part-1-pre-release-event-cancelled-last-minute-netizens-react-101727071819640.html. Skipping article.\n",
      "Redirected to https://www.msn.com/en-in. This may require sign-in.\n",
      "Sign-in or CAPTCHA detected at https://www.thehindu.com/entertainment/movies/devara-part-1-pre-release-event-cancelled-due-to-security-reasons-jr-ntr-reacts/article68673120.ece. Skipping article.\n",
      "Sign-in or CAPTCHA detected at https://timesofindia.indiatimes.com/entertainment/hindi/bollywood/news/chaos-erupts-as-pre-release-event-of-devara-gets-cancelled-in-hyderabad-jr-ntr-fans-react-watch-videos/articleshow/113575462.cms. Skipping article.\n",
      "Redirected to https://www.msn.com/en-in. This may require sign-in.\n"
     ]
    }
   ],
   "source": [
    "from get_news_articles import bing_news_scraper\n",
    "\n",
    "# Example usage\n",
    "query = \"news about devara pre release cancel\"\n",
    "df = bing_news_scraper(query, max_articles=20)  # Limit to 70 articles"
   ]
  },
  {
   "cell_type": "code",
   "execution_count": 6,
   "metadata": {},
   "outputs": [
    {
     "data": {
      "text/html": [
       "<div>\n",
       "<style scoped>\n",
       "    .dataframe tbody tr th:only-of-type {\n",
       "        vertical-align: middle;\n",
       "    }\n",
       "\n",
       "    .dataframe tbody tr th {\n",
       "        vertical-align: top;\n",
       "    }\n",
       "\n",
       "    .dataframe thead th {\n",
       "        text-align: right;\n",
       "    }\n",
       "</style>\n",
       "<table border=\"1\" class=\"dataframe\">\n",
       "  <thead>\n",
       "    <tr style=\"text-align: right;\">\n",
       "      <th></th>\n",
       "      <th>Headline</th>\n",
       "      <th>Link</th>\n",
       "      <th>Full Article</th>\n",
       "    </tr>\n",
       "  </thead>\n",
       "  <tbody>\n",
       "    <tr>\n",
       "      <th>0</th>\n",
       "      <td>Why Devara's pre-release event had to be cance...</td>\n",
       "      <td>https://english.newstracklive.com/news/why-did...</td>\n",
       "      <td>The trailer of this year's most awaited film '...</td>\n",
       "    </tr>\n",
       "    <tr>\n",
       "      <th>1</th>\n",
       "      <td>Devara: Pre-release event gets cancelled and h...</td>\n",
       "      <td>https://www.tellychakkar.com/regional/south/de...</td>\n",
       "      <td>MUMBAI: The fans of Jr NTR and Saif Ali Khan a...</td>\n",
       "    </tr>\n",
       "    <tr>\n",
       "      <th>2</th>\n",
       "      <td>Devara Pre-Release Event Cancelled: Jr NTR OPE...</td>\n",
       "      <td>https://www.filmibeat.com/telugu/news/2024/dev...</td>\n",
       "      <td>\\nJr\\nNTR\\nAbout\\nCancellation\\nof\\nPre-Relea...</td>\n",
       "    </tr>\n",
       "    <tr>\n",
       "      <th>3</th>\n",
       "      <td>“I share your disappointment”, says Jr NTR aft...</td>\n",
       "      <td>https://www.udayavani.com/english-news/i-share...</td>\n",
       "      <td>Tuesday, 24 Sep 2024 | UPDATED: 02:26 PM IST H...</td>\n",
       "    </tr>\n",
       "    <tr>\n",
       "      <th>4</th>\n",
       "      <td>Devara Part 1: Pre-release event of Jr NTR sta...</td>\n",
       "      <td>https://www.bollywoodhungama.com/news/south-ci...</td>\n",
       "      <td>The film marks the return of the Telugu supers...</td>\n",
       "    </tr>\n",
       "  </tbody>\n",
       "</table>\n",
       "</div>"
      ],
      "text/plain": [
       "                                            Headline  \\\n",
       "0  Why Devara's pre-release event had to be cance...   \n",
       "1  Devara: Pre-release event gets cancelled and h...   \n",
       "2  Devara Pre-Release Event Cancelled: Jr NTR OPE...   \n",
       "3  “I share your disappointment”, says Jr NTR aft...   \n",
       "4  Devara Part 1: Pre-release event of Jr NTR sta...   \n",
       "\n",
       "                                                Link  \\\n",
       "0  https://english.newstracklive.com/news/why-did...   \n",
       "1  https://www.tellychakkar.com/regional/south/de...   \n",
       "2  https://www.filmibeat.com/telugu/news/2024/dev...   \n",
       "3  https://www.udayavani.com/english-news/i-share...   \n",
       "4  https://www.bollywoodhungama.com/news/south-ci...   \n",
       "\n",
       "                                        Full Article  \n",
       "0  The trailer of this year's most awaited film '...  \n",
       "1  MUMBAI: The fans of Jr NTR and Saif Ali Khan a...  \n",
       "2   \\nJr\\nNTR\\nAbout\\nCancellation\\nof\\nPre-Relea...  \n",
       "3  Tuesday, 24 Sep 2024 | UPDATED: 02:26 PM IST H...  \n",
       "4  The film marks the return of the Telugu supers...  "
      ]
     },
     "execution_count": 6,
     "metadata": {},
     "output_type": "execute_result"
    }
   ],
   "source": [
    "df.head()"
   ]
  },
  {
   "cell_type": "code",
   "execution_count": null,
   "metadata": {},
   "outputs": [],
   "source": [
    "filepath = \"data/news_articles.csv\"\n",
    "df.to_csv(filepath , index= True)"
   ]
  }
 ],
 "metadata": {
  "kernelspec": {
   "display_name": "data_collection_env",
   "language": "python",
   "name": "python3"
  },
  "language_info": {
   "codemirror_mode": {
    "name": "ipython",
    "version": 3
   },
   "file_extension": ".py",
   "mimetype": "text/x-python",
   "name": "python",
   "nbconvert_exporter": "python",
   "pygments_lexer": "ipython3",
   "version": "3.10.10"
  }
 },
 "nbformat": 4,
 "nbformat_minor": 2
}
