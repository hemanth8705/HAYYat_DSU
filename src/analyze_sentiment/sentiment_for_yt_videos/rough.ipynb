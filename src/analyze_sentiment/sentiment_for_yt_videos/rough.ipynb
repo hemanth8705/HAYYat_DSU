{
 "cells": [
  {
   "cell_type": "code",
   "execution_count": 47,
   "metadata": {},
   "outputs": [],
   "source": [
    "import os\n",
    "import pandas as pd\n",
    "import json\n",
    "\n",
    "# Build the full path\n",
    "file_path =  r'../../scraped_data/yt_data.json'\n",
    "try:\n",
    "    data = pd.read_json(file_path)\n",
    "except FileNotFoundError:\n",
    "    print(\"File not found. Please check the path.\")\n"
   ]
  },
  {
   "cell_type": "code",
   "execution_count": 48,
   "metadata": {},
   "outputs": [],
   "source": [
    "from textblob import TextBlob"
   ]
  },
  {
   "cell_type": "code",
   "execution_count": 49,
   "metadata": {},
   "outputs": [
    {
     "name": "stdout",
     "output_type": "stream",
     "text": [
      "<class 'pandas.core.frame.DataFrame'>\n",
      "RangeIndex: 5 entries, 0 to 4\n",
      "Data columns (total 3 columns):\n",
      " #   Column    Non-Null Count  Dtype \n",
      "---  ------    --------------  ----- \n",
      " 0   VideoID   5 non-null      object\n",
      " 1   comments  5 non-null      object\n",
      " 2   srt       5 non-null      object\n",
      "dtypes: object(3)\n",
      "memory usage: 248.0+ bytes\n"
     ]
    }
   ],
   "source": [
    "data.info()"
   ]
  },
  {
   "cell_type": "code",
   "execution_count": 50,
   "metadata": {},
   "outputs": [
    {
     "data": {
      "text/html": [
       "<div>\n",
       "<style scoped>\n",
       "    .dataframe tbody tr th:only-of-type {\n",
       "        vertical-align: middle;\n",
       "    }\n",
       "\n",
       "    .dataframe tbody tr th {\n",
       "        vertical-align: top;\n",
       "    }\n",
       "\n",
       "    .dataframe thead th {\n",
       "        text-align: right;\n",
       "    }\n",
       "</style>\n",
       "<table border=\"1\" class=\"dataframe\">\n",
       "  <thead>\n",
       "    <tr style=\"text-align: right;\">\n",
       "      <th></th>\n",
       "      <th>VideoID</th>\n",
       "      <th>comments</th>\n",
       "      <th>srt</th>\n",
       "    </tr>\n",
       "  </thead>\n",
       "  <tbody>\n",
       "    <tr>\n",
       "      <th>0</th>\n",
       "      <td>yAvG9YHJMAs</td>\n",
       "      <td>[[John 14:6 NKJV\\r\\n6 Jesus said to him, “I am...</td>\n",
       "      <td>-Welcome, everybody. Welcome, welcome, welcome...</td>\n",
       "    </tr>\n",
       "    <tr>\n",
       "      <th>1</th>\n",
       "      <td>CdoOUAE71Ow</td>\n",
       "      <td>[[If Trump wins the election..you're finished ...</td>\n",
       "      <td>no element found: line 1, column 0</td>\n",
       "    </tr>\n",
       "    <tr>\n",
       "      <th>2</th>\n",
       "      <td>DV4TubkM-8U</td>\n",
       "      <td>[[He'd be a better president than Trump !], [P...</td>\n",
       "      <td>keep walking this dramatic arrest of Ryan Ruth...</td>\n",
       "    </tr>\n",
       "    <tr>\n",
       "      <th>3</th>\n",
       "      <td>sSPzqcjE6Ms</td>\n",
       "      <td>[[All these economists in the comments warning...</td>\n",
       "      <td>Andrew. Thank you. Well, former President Trum...</td>\n",
       "    </tr>\n",
       "    <tr>\n",
       "      <th>4</th>\n",
       "      <td>uWpOxxhfG1Q</td>\n",
       "      <td>[[Is this the woman that claims that she's an ...</td>\n",
       "      <td>&gt;&gt;&gt; DONALD TRUMP IS HAVING A &gt;&gt;&gt; DONALD TRUMP ...</td>\n",
       "    </tr>\n",
       "  </tbody>\n",
       "</table>\n",
       "</div>"
      ],
      "text/plain": [
       "       VideoID                                           comments  \\\n",
       "0  yAvG9YHJMAs  [[John 14:6 NKJV\\r\\n6 Jesus said to him, “I am...   \n",
       "1  CdoOUAE71Ow  [[If Trump wins the election..you're finished ...   \n",
       "2  DV4TubkM-8U  [[He'd be a better president than Trump !], [P...   \n",
       "3  sSPzqcjE6Ms  [[All these economists in the comments warning...   \n",
       "4  uWpOxxhfG1Q  [[Is this the woman that claims that she's an ...   \n",
       "\n",
       "                                                 srt  \n",
       "0  -Welcome, everybody. Welcome, welcome, welcome...  \n",
       "1                 no element found: line 1, column 0  \n",
       "2  keep walking this dramatic arrest of Ryan Ruth...  \n",
       "3  Andrew. Thank you. Well, former President Trum...  \n",
       "4  >>> DONALD TRUMP IS HAVING A >>> DONALD TRUMP ...  "
      ]
     },
     "execution_count": 50,
     "metadata": {},
     "output_type": "execute_result"
    }
   ],
   "source": [
    "data.head()"
   ]
  },
  {
   "cell_type": "code",
   "execution_count": 51,
   "metadata": {},
   "outputs": [
    {
     "data": {
      "text/plain": [
       "[[\"If Trump wins the election..you're finished as a democratic country!..Period!..shouldn't be even on the ballot for what he's doing and continues to do!\"],\n",
       " ['Tous vacciné tous PROTEGE  les endormis !!!!???? Corompu  RASKIN!!! 👹'],\n",
       " ['Oh wow your not even good at talking smack anymore..good luck'],\n",
       " ['Decades ago, Republicans realized they were losing elections on policy.  Instead of revisiting their policies and revamping them and their GOP platform to appeal to a modern audience, a broader electorate, they came up with the \"Culture Wars\" instead and also made voting harder not easier.'],\n",
       " ['The Republicans are the ones cheating.'],\n",
       " ['IRONICALLY THE DEFINITION OF WHAT CONSTITUTES \"THE STATE\" IS THIS :- The superstructure of the State is the Judiciary and the Political - WHO CONTROLS BOTH OF THESE NOW - THE MAGA STOOGES!!MAGA CONTROLS THE STATE - THE DEEP STATE IS MAGA AND ITS ALREADY IN PLACE THATS WHY ITS SO DIFFICULT TO GET RID OF THEM.'],\n",
       " ['Read up on Hitler\\'s \"Night if the Long Knives,\" June 30-July 1, 1934.\\nThousands were murdered.  That was Hitler going after his critics and rivals.\\nThe Big Crackpot (Trump) is known to admire ruthless dictators, and desperately wants to be one himself.\\nTrump\\'s path to power resembles Hitler\\'s in many respects.  Trump will not hesitate to use violence.  Remember his \"bloodbath\" speech.'],\n",
       " ['The OLD FELON’s toxicity just keeps growing and getting worse, and after the destructive violence of January 6th I’m frightened to think 🤔 he could throw America into 1930s Germany. If Judge Merchan had sentenced him when he should have after “WE THE PEOPLE” found him guilty, he’d be in prison where he belongs! Am so sick of judges not treating him like any other mob criminal!😡'],\n",
       " [\"Stimmied? Really? The Y in stymied is pronounced like the Y in why. C'mon\"],\n",
       " [\"I wondered why the Dems haven't been mentioning these crimes he did in office!\"],\n",
       " ['Stop lying,clowns.'],\n",
       " ['Raskin is a rascal a liar a blinded weak minded leader thats going nowhere but down to the to his own lies and deception this woman is completely deceived a liar the blind trying to lead other blind people her judgement will be greater because she is a liar very dark person'],\n",
       " ['SCARY . How so!'],\n",
       " [\"Why not? If you're not guilty, what is there to be afraid of. Too much -------  here on MSNBC.\"],\n",
       " ['Take him out, to the hospital. Take him out, of all politics. Take him out, to the woodshed. Take him out, to prison. Take him out, of this country. Take him seriously, so just VOTE him! out!'],\n",
       " ['Donald trump said he ll go after by who cheated election he ll pin on democrats!! But democrat will get real evidence and proof come from Donald trump himself cheat the election again he avoided lots more lies to stay out of prison because of more charges will bring up against Donald trump who trying to steal election fraud again like in 2020 !!!! Vote blue 💙 so we can get Donald trump in prison for good to avoid this country will be lots more corrupt and worse dangerous!!! We don’t need this from Donald trump to be dictator again !!! Enough is enough!!!!!!'],\n",
       " ['So clearly Trump can’t do that so he was letting off steam. \\n\\nClinton and Comey, they were guilty of the Russia hoax creation; so not like there wasn’t cause. \\n\\nHowever, Trump didn’t do that, but Biden and Harris did.'],\n",
       " ['Rep. Raskin...think of you so often. May your son s memory be a blessing. Praying for your continuing good health. You are a national treasure.\\n❤ you Jen.'],\n",
       " ['TRUMP WILL BE SENTENCED ON NOVEMBER 26TH.'],\n",
       " [\"Trump is as stupid as stupid can get, his entire life has been a lie, people need to read Mary Trump's book, telling us about Trump's sociopathic behavior, about how he went through his fathers gift money, of $413 million, and the $200 million he received from the sale of Fred's assets after his father died.  He still managed to go bankrupted 6 times, and he even sent 2 casinos broke, and put $7.9 trillion on the countries credit card as President.  He is a terrible businessman.\"],\n",
       " ['It sounds to me like he is threatening not just political actors but to common voters as well, if they are registered as Democrats'],\n",
       " ['Fact is: Also Republican voters are much better of if they vote for Kamala  Harris instead of weird immoral con artist Donald Trump'],\n",
       " ['Is everyone aware that Trump\\'s campaign plane is \"The Lolita Express\" - Epstein\\'s plane?'],\n",
       " ['Only a wannabe dictator would think that way in my opinion'],\n",
       " ['Why is Trump not in jail,'],\n",
       " ['Vote blue all the way down. I am a Canadian, never run after a rat when your home is on fire, and remember people with small mouths are talkertives and lies a lot. Vote blue all the way down.'],\n",
       " ['Well he has free reign now.  NO consequences for almost any action he chooses to take.'],\n",
       " ['He is a dangerous person.  Can’t stand to look at him anymore.'],\n",
       " ['This is what The Biden administration did do and your hair is Red. looks good.'],\n",
       " ['Dirty tricks are crime.']]"
      ]
     },
     "execution_count": 51,
     "metadata": {},
     "output_type": "execute_result"
    }
   ],
   "source": [
    "data.iloc[1][\"comments\"]"
   ]
  },
  {
   "cell_type": "code",
   "execution_count": 52,
   "metadata": {},
   "outputs": [],
   "source": [
    "def analyze_sentiment(text):\n",
    "    blob = TextBlob(text)\n",
    "    # print(blob.sentiment.polarity)\n",
    "    positive_sentiment = max(blob.sentiment.polarity, 0)\n",
    "    positive_sentiment = round(positive_sentiment, 2)\n",
    "    negative_sentiment = min(blob.sentiment.polarity, 0)\n",
    "    negative_sentiment = round(negative_sentiment, 2)\n",
    "    if positive_sentiment != 0:\n",
    "        return \"Positive\",positive_sentiment\n",
    "    return \"Negative\",negative_sentiment\n"
   ]
  },
  {
   "cell_type": "code",
   "execution_count": 53,
   "metadata": {},
   "outputs": [],
   "source": [
    "import pandas as pd\n",
    "\n",
    "def analyze_comments(row):\n",
    "    positive_count = 0\n",
    "    negative_count = 0\n",
    "    \n",
    "    for comment in row['comments']:\n",
    "        sentiment, intensity = analyze_sentiment(comment[0])\n",
    "        comment.append((sentiment, intensity))  # Assuming comment is a list\n",
    "        \n",
    "        if sentiment == 'Positive':\n",
    "            positive_count += 1\n",
    "        elif sentiment == 'Negative':\n",
    "            negative_count += 1\n",
    "    \n",
    "    # Calculate percentages\n",
    "    total_comments = positive_count + negative_count\n",
    "    positive_percentage = (positive_count / total_comments) * 100 if total_comments > 0 else 0\n",
    "    negative_percentage = (negative_count / total_comments) * 100 if total_comments > 0 else 0\n",
    "    \n",
    "    return pd.Series({\n",
    "        \"positive_comments\": round(positive_percentage, 2),\n",
    "        \"negative_comments\": round(negative_percentage, 2),\n",
    "        \"sentiment\": analyze_sentiment(row[\"srt\"])[0],\n",
    "        \"intensity\": analyze_sentiment(row[\"srt\"])[1]\n",
    "    })\n",
    "\n",
    "# Apply the function to each row and update the DataFrame\n",
    "data[['positive_comments', 'negative_comments', 'sentiment', 'intensity']] = data.apply(analyze_comments, axis=1)\n"
   ]
  },
  {
   "cell_type": "code",
   "execution_count": 54,
   "metadata": {},
   "outputs": [
    {
     "data": {
      "text/html": [
       "<div>\n",
       "<style scoped>\n",
       "    .dataframe tbody tr th:only-of-type {\n",
       "        vertical-align: middle;\n",
       "    }\n",
       "\n",
       "    .dataframe tbody tr th {\n",
       "        vertical-align: top;\n",
       "    }\n",
       "\n",
       "    .dataframe thead th {\n",
       "        text-align: right;\n",
       "    }\n",
       "</style>\n",
       "<table border=\"1\" class=\"dataframe\">\n",
       "  <thead>\n",
       "    <tr style=\"text-align: right;\">\n",
       "      <th></th>\n",
       "      <th>VideoID</th>\n",
       "      <th>comments</th>\n",
       "      <th>srt</th>\n",
       "      <th>positive_comments</th>\n",
       "      <th>negative_comments</th>\n",
       "      <th>sentiment</th>\n",
       "      <th>intensity</th>\n",
       "    </tr>\n",
       "  </thead>\n",
       "  <tbody>\n",
       "    <tr>\n",
       "      <th>0</th>\n",
       "      <td>yAvG9YHJMAs</td>\n",
       "      <td>[[John 14:6 NKJV\\r\\n6 Jesus said to him, “I am...</td>\n",
       "      <td>-Welcome, everybody. Welcome, welcome, welcome...</td>\n",
       "      <td>36.67</td>\n",
       "      <td>63.33</td>\n",
       "      <td>Positive</td>\n",
       "      <td>0.17</td>\n",
       "    </tr>\n",
       "    <tr>\n",
       "      <th>1</th>\n",
       "      <td>CdoOUAE71Ow</td>\n",
       "      <td>[[If Trump wins the election..you're finished ...</td>\n",
       "      <td>no element found: line 1, column 0</td>\n",
       "      <td>30.00</td>\n",
       "      <td>70.00</td>\n",
       "      <td>Negative</td>\n",
       "      <td>0.00</td>\n",
       "    </tr>\n",
       "    <tr>\n",
       "      <th>2</th>\n",
       "      <td>DV4TubkM-8U</td>\n",
       "      <td>[[He'd be a better president than Trump !, (Po...</td>\n",
       "      <td>keep walking this dramatic arrest of Ryan Ruth...</td>\n",
       "      <td>26.67</td>\n",
       "      <td>73.33</td>\n",
       "      <td>Negative</td>\n",
       "      <td>0.00</td>\n",
       "    </tr>\n",
       "    <tr>\n",
       "      <th>3</th>\n",
       "      <td>sSPzqcjE6Ms</td>\n",
       "      <td>[[All these economists in the comments warning...</td>\n",
       "      <td>Andrew. Thank you. Well, former President Trum...</td>\n",
       "      <td>30.00</td>\n",
       "      <td>70.00</td>\n",
       "      <td>Positive</td>\n",
       "      <td>0.07</td>\n",
       "    </tr>\n",
       "    <tr>\n",
       "      <th>4</th>\n",
       "      <td>uWpOxxhfG1Q</td>\n",
       "      <td>[[Is this the woman that claims that she's an ...</td>\n",
       "      <td>&gt;&gt;&gt; DONALD TRUMP IS HAVING A &gt;&gt;&gt; DONALD TRUMP ...</td>\n",
       "      <td>23.33</td>\n",
       "      <td>76.67</td>\n",
       "      <td>Positive</td>\n",
       "      <td>0.19</td>\n",
       "    </tr>\n",
       "  </tbody>\n",
       "</table>\n",
       "</div>"
      ],
      "text/plain": [
       "       VideoID                                           comments  \\\n",
       "0  yAvG9YHJMAs  [[John 14:6 NKJV\\r\\n6 Jesus said to him, “I am...   \n",
       "1  CdoOUAE71Ow  [[If Trump wins the election..you're finished ...   \n",
       "2  DV4TubkM-8U  [[He'd be a better president than Trump !, (Po...   \n",
       "3  sSPzqcjE6Ms  [[All these economists in the comments warning...   \n",
       "4  uWpOxxhfG1Q  [[Is this the woman that claims that she's an ...   \n",
       "\n",
       "                                                 srt  positive_comments  \\\n",
       "0  -Welcome, everybody. Welcome, welcome, welcome...              36.67   \n",
       "1                 no element found: line 1, column 0              30.00   \n",
       "2  keep walking this dramatic arrest of Ryan Ruth...              26.67   \n",
       "3  Andrew. Thank you. Well, former President Trum...              30.00   \n",
       "4  >>> DONALD TRUMP IS HAVING A >>> DONALD TRUMP ...              23.33   \n",
       "\n",
       "   negative_comments sentiment  intensity  \n",
       "0              63.33  Positive       0.17  \n",
       "1              70.00  Negative       0.00  \n",
       "2              73.33  Negative       0.00  \n",
       "3              70.00  Positive       0.07  \n",
       "4              76.67  Positive       0.19  "
      ]
     },
     "execution_count": 54,
     "metadata": {},
     "output_type": "execute_result"
    }
   ],
   "source": [
    "data.head()"
   ]
  },
  {
   "cell_type": "code",
   "execution_count": 55,
   "metadata": {},
   "outputs": [
    {
     "data": {
      "text/plain": [
       "[['John 14:6 NKJV\\r\\n6 Jesus said to him, “I am (A)the way, (B)the truth, and (C)the life. (D)No one comes to the Father (E)except through Me.\\r\\n\\r\\n*Did you know you’re part of the ultimate statistics, 10 out of 10 people die. One day your heart will stop beating and you will be dead! The Bible says you’ll then be judged by the holy and righteous God who created this universe.(Hebrew 9:27)You’ll be judged for every word, thought, and action in your life.(Matthew 12:36-37) Will you be innocent or guilty?\\r\\n\\r\\n*Let’s check the standard, the Ten Commandments. Have you ever lied (even a “white” lie)? (Revelation 21:8) Have you ever stolen anything (value is irrelevant and includes downloading or copying movies illegally)?  If you’ve lusted, you’ve committed adultery in your heart. (Matthew 5:27-30) (1 Corinthians 6:9-10)\\r\\n\\r\\nIf you’ve hated someone, the Bible says you’re a murderer(1 John 3:15). If you’ve done any of these things, you will be guilty, and end up in Hell. God is perfect and He hates sin, but He sent His Son, Jesus Christ, to die on the Cross to take the punishment you deserve. Then He rose from the graves after three days  – defeating death. (Luke 24:46-48)\\r\\n\\r\\nRepent (turn from your sins) and trust in Jesus Christ our Lord and saviour  to receive forgiveness and everlasting life afterlife here on earth without pain, suffering and death anymore (revelation 21:4) God cannot Lie He is holy, Righteous and just cannot tolerate Sin(Hebrew 6:18) if you don’t believe in God you are making God a liar. Think about it.\\r\\n\\r\\nDo you think God cannot preserve His words ? He created the heaven and the earth and the sea all living things here on earth including human.\\r\\n\\r\\n. Read the Bible to learn about God and how to live. (Acts 20:21) \\r\\n\\r\\n*Do God’s will, plan and purpose in your life; these are above and beyond, immeasurable compare to your grandest dream.\\r\\n\\r\\n* We obey God’s moral law the Ten Commandments because we love our Lord and saviour Jesus Christ, the Father and the Holy Ghost(John 14:15) (John 14:1-6) (John 14:16-26) (Mark 12:30-31)  with all our heart, soul, mind and all our strength, and we believe and have faith in Him; also we Fear Him with reverence with deep respect. \\r\\n\\r\\nJob 28:28\\r\\nKing James Version\\r\\n28 And unto man he said, Behold, the fear of the Lord, that is wisdom; and to depart from evil is understanding.\\r\\n\\r\\n1 Corinthians 6:9-10\\r\\nNew King James Version\\r\\n9 Do you not know that the unrighteous will not inherit the kingdom of God? Do not be deceived. (A)Neither fornicators, nor idolaters, nor adulterers, nor [a]homosexuals, nor [b]sodomites, 10 nor thieves, nor covetous, nor drunkards, nor revilers, nor extortioners will inherit the kingdom of God.\\r\\n\\r\\nEcclesiastes 12:13-14\\r\\nNew King James Version\\r\\n13 Let us hear the conclusion of the whole matter:\\r\\n\\r\\n(A)Fear God and keep His commandments,\\r\\nFor this is man’s all.\\r\\n14 For (B)God will bring every work into judgment,\\r\\nIncluding every secret thing,\\r\\nWhether good or evil.\\r\\n\\r\\n* Let’s seek the Lord and His face also His strength, power, wisdom and discernment in our daily lives.\\r\\n\\r\\nWe need God’s help to overcome Sin in our lives. And live a holy life in the eyes of the Living God. \\r\\n\\r\\nGod will help us if we seek Him diligently with all our heart, soul, mind and all our strength .\\r\\n\\r\\nPut on always the full armour of God (Ephesians 6:10-18)\\r\\n\\r\\nPhilippians 4:13\\r\\nNew King James Version\\r\\n13 I can do all things (A)through [a]Christ who strengthens me.\\r\\n\\r\\nPsalm 28:7\\r\\nNew King James Version\\r\\n7 The Lord is (A)my strength and my shield;\\r\\nMy heart (B)trusted in Him, and I am helped;\\r\\nTherefore my heart greatly rejoices,\\r\\nAnd with my song I will praise Him.\\r\\n\\r\\nActs 20:21\\r\\nKing James Version\\r\\n21 Testifying both to the Jews, and also to the Greeks, repentance toward God, and faith toward our Lord Jesus Christ.\\r\\n\\r\\nGod bless.\\r\\n\\r\\n\\r\\nLiving water.',\n",
       "  ('Negative', 0)],\n",
       " ['Thomas Linda Jackson Jason Lewis Margaret', ('Negative', 0.0)],\n",
       " ['💯💮🈵🈵🈵🈹🈹🆑🆎🆑🆑🆑🆎🆑🆑🆑🆑🆑🆑🆑🛑🛑🛑💢💢💢💢💢💢💢💢💢💢💢💢💢💢💢💢💢💢💢💢💢💢❎❎🈯️🈯️✅🈯️🈯️🈯️🈯️🈯️🈯️🈯️✅🈯️🈯️🈯️🈯️🈯️🈯️🈯️🈯️🈯️🈯️🈯️🈯️🈯️🈯️🈯️🈯️✅‼️⁉️🔅⁉️🔅🚸🚸🔱🔱🔱🚸🚸🔱🔱🚸🔱🔱🔱🔱🔅🔅🔅🔅🔅❕❕❕⁉️‼️❔❔❔〽️〽️〽️〽️❇️🧑\\u200d🧒🔤1️⃣🔢⏮️✖️✖️✖️✖️✖️\\U0001f7f0✖️\\U0001f7f0\\U0001f7f0\\U0001f7f0\\U0001f7f0©️©️©️©️©️™️™️™️™️™️™️©️©️©️©️\\U0001f7f0🎶🎶🎶🎶🎶✖️🎵🎶✖️🎵\\U0001fae0\\U0001fae0\\U0001fae4\\U0001fae0\\U0001fae4🤥🤥🤥😎😎😎😎😎🥸🥸🥸🤩🤩🤩🥳🥳🥳🥳🥳🤩🤩🥳🥳🙃🙃😘😘🙃🙃🙃🙃🙃🙃🙃🙃🙃🙃🙃🙂🙃🙃🙂🙃🙃🙃🙃🙂🙃🙃🙃😘😘😘😘😘😘😘😘😘😘😘😘😘😘😘😘😘😘😘😛😘😘😘😛😛😛😛😛😘😘😘😘😘',\n",
       "  ('Negative', 0.0)],\n",
       " ['Literally Trump could rationalize out of anything - flip back on his own logic - and his supporters like blindly just follow his lead. Grow a spine. You can like Trump but if you can’t see the hypocrisy between trump asking for a 2nd debate against Biden and how him dodging a second debate with Harris…you are experiencing the blind trust that occurs in cults',\n",
       "  ('Negative', -0.07)],\n",
       " ['I like 💖 the we post thing 🙂 and you got mentioned by Donald Trump because you get under his skin 😔 like other Jimmy he is not 🚫 only getting under his skin 😭 but pissed him off 😡🤣',\n",
       "  ('Negative', -0.06)],\n",
       " ['First, you lefties are not fair, she will get her questions and answers before the debate, secondly; Trump has also to debate the moderators',\n",
       "  ('Negative', -0.03)],\n",
       " ['when you make fun of old people, you sound like a douche',\n",
       "  ('Positive', 0.27)],\n",
       " ['Hilarious😂', ('Negative', 0.0)],\n",
       " ['Supported Defunding the Police:\\xa0Kamala Harris backed the movement to defund the police, threatening the safety of communities nationwide.¹\\n\\u200d\\n\\u200d\\n\\n￼\\n\\nBailed Out Violent Criminals:\\xa0When Minneapolis was in flames, Harris encouraged donations to bail funds, effectively freeing those who destroyed small businesses and endangered lives.²\\n\\u200d\\n\\n￼\\n\\nPushes for Gun Confiscation:\\xa0Harris advocates for a mandatory buy-back of firearms, leaving citizens defenseless against violent criminals.³\\n\\u200d\\n\\u200d\\n\\n￼\\n\\nSupported Defunding ICE:\\xa0As a Senator, Kamala Harris tried to take $220 million out of ICE’s Enforcement Division.⁴\\n\\u200d\\n\\u200d\\n\\u200d\\n\\n￼\\n\\nTreats Law-Abiding Citizens as Criminals:\\xa0Under Harris’ policies, everyday Americans are treated like criminals, while actual perpetrators of violent crime get a free pass.⁵\\n\\u200d',\n",
       "  ('Negative', -0.25)],\n",
       " [\"4:10 \\nWhen have to choose between eggs and the doctor in this economy of course you won't. When you're paid to be a shill you can afford the pill.\",\n",
       "  ('Negative', 0.0)],\n",
       " [\"3:15 \\nThat's funny because they're contracted pilots for hire.\",\n",
       "  ('Positive', 0.25)],\n",
       " [\"Looks like Chuck like to $u€k. I guess $20 os $20, huh? He doesn't need to debate her, because everytime she opens her mouth, she loses support.\",\n",
       "  ('Negative', -0.3)],\n",
       " ['YOU ARE WHAT YOU EAT. Cluck, cluck, cluck!  Trump Orange Fried Chicken!',\n",
       "  ('Negative', -0.75)],\n",
       " [\"Jimmy Fallen your a moron. Trump is not afraid. Why should he debate her after the way he was treated in the last debate?? No one with a brain would want to put themselves in that position! No one believes she is winning in the poles. He's doing great reaching people at his rally's. I stand with Donald Trump. Kamala is a jack ass and she knows she is losing. Jimmy Fallen used to be good, now he is a big fool just like Kamala is!\",\n",
       "  ('Positive', 0.21)],\n",
       " ['forget the criminality, the punk is just a moron, IQ78, about 11 points under the national average',\n",
       "  ('Negative', -0.48)],\n",
       " ['2:27 Send the has-been to Dancing with the Stars.', ('Negative', 0.0)],\n",
       " ['Jimmy Fallon not funny 😢', ('Negative', -0.12)],\n",
       " [\"Maybe she wants another debate because not everyone even knows who she is. We already know who trump is. Honestly I forgot about her throuout Bidens administration. Therefore, I have no idea what good she's done for our country.\",\n",
       "  ('Positive', 0.5)],\n",
       " ['Fake Ke mala', ('Negative', -0.5)],\n",
       " ['Kamala is the worst person for president, but since the elite and celebrities endorsed her we are supposed to believe she is fantastic! So pathetic',\n",
       "  ('Negative', -0.5)],\n",
       " ['Actually if you added up every item on the Cheesecake Factory menu I’m pretty sure it’s well over 15,000 pounds in cost',\n",
       "  ('Positive', 0.25)],\n",
       " ['FASCIST 🍄 🇷🇺 ☠️ 🇨🇳 FAKE BONE SPURS  , tRump', ('Negative', -0.5)],\n",
       " ['She  already win why she need another! 😂😂😂😂😂', ('Positive', 1.0)],\n",
       " ['She  already win why she need another! 😂😂😂😂😂', ('Positive', 1.0)],\n",
       " ['And the Pope thinks he is God for pulling that off?\\r\\nLike the UN which he Holy oversees?\\r\\nUsing the money of nations to finance his global operation?\\r\\n\\r\\nAnd the racial mix of nations too?  \\r\\n\\r\\nAnd the operation of Climate Change?\\r\\n\\r\\nAnd the Two-State Solution?\\r\\n\\r\\nAnd the Final Solution?\\r\\n\\r\\nAnd he selects government elections?\\r\\n\\r\\nAnd the distribution of welfare?\\r\\n\\r\\nAnd the Medical winners and losers?\\r\\n\\r\\nAnd his Democratic kingdom pushes for it, collectively?  \\r\\n\\r\\nAnd he rules over all of it?\\r\\n\\r\\nAnd you pay for it?\\r\\n\\r\\n\\r\\n(For Eva.)',\n",
       "  ('Negative', -0.05)],\n",
       " ['I remember when Jimmy Fallon (and the rest of the late night hosts) were actually funny. Good ole days.',\n",
       "  ('Positive', 0.22)],\n",
       " ['In my opinion, Kamala should invite Trump to a debate on Fox where he has a chance to attract new voters and Trump will have to accept it...',\n",
       "  ('Positive', 0.14)],\n",
       " ['Jimmy ate to many Oestrogen Pills', ('Positive', 0.5)],\n",
       " ['my backsplash is so much prettier. more better.', ('Positive', 0.4)],\n",
       " [\"No hes not he just doesn't want to debate kamala and the moderators and abc so they can cheat give her the questions and an ear piece!\",\n",
       "  ('Negative', 0.0)]]"
      ]
     },
     "execution_count": 55,
     "metadata": {},
     "output_type": "execute_result"
    }
   ],
   "source": [
    "data.iloc[0][\"comments\"]"
   ]
  },
  {
   "cell_type": "code",
   "execution_count": 57,
   "metadata": {},
   "outputs": [],
   "source": [
    "\n",
    "# Save to a JSON file\n",
    "file_path = r\"..\\..\\final_data\\yt_data.json\"\n",
    "\n",
    "data.to_json(file_path, orient='records', indent=4)"
   ]
  },
  {
   "cell_type": "code",
   "execution_count": null,
   "metadata": {},
   "outputs": [],
   "source": []
  }
 ],
 "metadata": {
  "kernelspec": {
   "display_name": "Python 3",
   "language": "python",
   "name": "python3"
  },
  "language_info": {
   "codemirror_mode": {
    "name": "ipython",
    "version": 3
   },
   "file_extension": ".py",
   "mimetype": "text/x-python",
   "name": "python",
   "nbconvert_exporter": "python",
   "pygments_lexer": "ipython3",
   "version": "3.10.10"
  }
 },
 "nbformat": 4,
 "nbformat_minor": 2
}
